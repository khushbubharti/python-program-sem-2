{
 "cells": [
  {
   "cell_type": "code",
   "execution_count": 3,
   "metadata": {},
   "outputs": [
    {
     "name": "stdout",
     "output_type": "stream",
     "text": [
      "Please Enter the first number153\n",
      "Yes\n"
     ]
    }
   ],
   "source": [
    "a=int(input(\"Please Enter the first number\"))\n",
    "num = a \n",
    "b = a%10\n",
    "a = a//10\n",
    "c = a%10\n",
    "a = a//10\n",
    "arm = a**3+b**3+c**3\n",
    "if(arm==num):\n",
    "    print(\"Yes\");\n",
    "else:\n",
    "    print(\"No\")\n",
    "\n",
    "\n",
    "\n"
   ]
  },
  {
   "cell_type": "code",
   "execution_count": 5,
   "metadata": {},
   "outputs": [
    {
     "name": "stdout",
     "output_type": "stream",
     "text": [
      "Please Enter the value of a0\n",
      "Please Enter the value of b1\n",
      "print c=1\n"
     ]
    }
   ],
   "source": [
    "a = int(input(\"Please Enter the value of a\"))\n",
    "b = int(input(\"Please Enter the value of b\"))\n",
    "if(a==b):\n",
    "    print(\"print c=0\");\n",
    "else:\n",
    "    print(\"print c=1\")\n"
   ]
  },
  {
   "cell_type": "code",
   "execution_count": 9,
   "metadata": {},
   "outputs": [
    {
     "name": "stdout",
     "output_type": "stream",
     "text": [
      "Please Enter the first number9\n",
      "Please Enter the second number7\n",
      "Please Enter the third number8\n",
      "a\n"
     ]
    }
   ],
   "source": [
    "a=int(input(\"Please Enter the first number\"))\n",
    "b=int(input(\"Please Enter the second number\"))\n",
    "c=int(input(\"Please Enter the third number\"))\n",
    "if(a>b):\n",
    "    if(a>c):\n",
    "        print(\"a\");\n",
    "    else:\n",
    "        print(\"c\");\n",
    "else:\n",
    "    if(b>c):\n",
    "        print(\"b\");\n",
    "    else:\n",
    "        print(\"c\")\n",
    "        \n",
    "        \n",
    "        "
   ]
  },
  {
   "cell_type": "code",
   "execution_count": 1,
   "metadata": {},
   "outputs": [
    {
     "name": "stdout",
     "output_type": "stream",
     "text": [
      "Please Enter the first number5\n",
      "Number is odd\n"
     ]
    }
   ],
   "source": [
    "a=int(input(\"Please Enter the first number\"))\n",
    "if(a%2==0):\n",
    "    print(\"Number is even\");\n",
    "else:\n",
    "    print(\"Number is odd\")\n",
    "    "
   ]
  },
  {
   "cell_type": "code",
   "execution_count": null,
   "metadata": {},
   "outputs": [],
   "source": []
  }
 ],
 "metadata": {
  "kernelspec": {
   "display_name": "Python 3",
   "language": "python",
   "name": "python3"
  },
  "language_info": {
   "codemirror_mode": {
    "name": "ipython",
    "version": 3
   },
   "file_extension": ".py",
   "mimetype": "text/x-python",
   "name": "python",
   "nbconvert_exporter": "python",
   "pygments_lexer": "ipython3",
   "version": "3.7.3"
  }
 },
 "nbformat": 4,
 "nbformat_minor": 2
}
