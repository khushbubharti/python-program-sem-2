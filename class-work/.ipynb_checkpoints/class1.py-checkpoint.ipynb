{
 "cells": [
  {
   "cell_type": "markdown",
   "metadata": {},
   "source": [
    "#(1)Write a program in python to calculate average of 3 numbers."
   ]
  },
  {
   "cell_type": "code",
   "execution_count": 1,
   "metadata": {},
   "outputs": [
    {
     "name": "stdout",
     "output_type": "stream",
     "text": [
      "Please Enter the first number45\n",
      "Please Enter the second number7\n",
      "Please Enter the third number98\n",
      "The average of numbers is = 50.0\n"
     ]
    }
   ],
   "source": [
    "a=int(input(\"Please Enter the first number\"))\n",
    "b=int(input(\"Please Enter the second number\"))\n",
    "c=int(input(\"Please Enter the third number\"))\n",
    "x=(a+b+c)/3\n",
    "print(\"The average of numbers is =\",x)"
   ]
  },
  {
   "cell_type": "markdown",
   "metadata": {},
   "source": [
    "#(2)write a program in python to simple interest "
   ]
  },
  {
   "cell_type": "code",
   "execution_count": null,
   "metadata": {},
   "outputs": [],
   "source": [
    "p=int(input(\"Please Enter your principal = \"))\n",
    "r=int(input(\"Please Enter your rate = \"))\n",
    "t=int(input(\"Please Enter your time = \"))\n",
    "si=(p*r*t)/100\n",
    "print(\"Simple Interest = \",si)"
   ]
  },
  {
   "cell_type": "markdown",
   "metadata": {},
   "source": [
    "#(3)write a program in python to vcalculate the reverse of a four digit number"
   ]
  },
  {
   "cell_type": "code",
   "execution_count": null,
   "metadata": {},
   "outputs": [],
   "source": [
    "rev = 0\n",
    "num=int(input(\"Please Enter the number = \"))\n",
    "rem=num%10\n",
    "rev = (rev*10)+rem\n",
    "num = (num//10)\n",
    "rem=num%10\n",
    "rev = (rev*10)+rem\n",
    "num = (num//10)\n",
    "rem=num%10\n",
    "rev = (rev*10)+rem\n",
    "num = (num//10)\n",
    "rem=num%10\n",
    "rev = (rev*10)+rem\n",
    "num = (num//10)\n",
    "print(f\"Reverse is = {rev}\")"
   ]
  },
  {
   "cell_type": "markdown",
   "metadata": {},
   "source": [
    "#(4)Write a program in python to find third number of currency note which of the ATM machine had got 100rs,50rs, &10rs."
   ]
  },
  {
   "cell_type": "code",
   "execution_count": null,
   "metadata": {},
   "outputs": [],
   "source": [
    "a=int(input(\"Please Enter the number\"))\n",
    "b=a//100\n",
    "a=a%100\n",
    "c=a//50\n",
    "a=a%50\n",
    "d=a//10\n",
    "print(\"Number of hundred rupees notes =\",b,\"Number of fifty rupees notes = \",c,\"Number of ten rupees notes = \",d)\n"
   ]
  },
  {
   "cell_type": "markdown",
   "metadata": {},
   "source": [
    "#(5)Write a program in python to add one to every digit of a four digit number"
   ]
  },
  {
   "cell_type": "code",
   "execution_count": null,
   "metadata": {},
   "outputs": [],
   "source": [
    "num = int(input(\"Please Enter the number\"))\n",
    "firstDigit = num%10\n",
    "num = num // 10\n",
    "secondDigit = num%10\n",
    "num = num // 10\n",
    "thirdDigit = num%10\n",
    "num = num // 10\n",
    "fourthDigit = num%10\n",
    "firstDigit = (firstDigit+1)%10\n",
    "secondDigit = (secondDigit+1)%10\n",
    "thirdDigit = (thirdDigit+1)%10\n",
    "fourthDigit = (fourthDigit+1)%10\n",
    "number = fourthDigit*1000 + thirdDigit*100 + secondDigit*10 + firstDigit\n",
    "print(number)\n",
    "\n",
    "\n"
   ]
  },
  {
   "cell_type": "markdown",
   "metadata": {},
   "source": [
    "#(6)#(a) Write a program in python to swap two numbers using a temparary variable.\n",
    "    #(b) Write a program in python to swap two numbers using without variable using subtraction and addition.                   #(c) Write a program in python to swap two numbers using without variable using multiplication and division.\n",
    "\n"
   ]
  },
  {
   "cell_type": "code",
   "execution_count": null,
   "metadata": {},
   "outputs": [],
   "source": [
    "##(a)\n",
    "num1=int(input())\n",
    "num2=int(input())\n",
    "num3=0\n",
    "num3 = num1\n",
    "num1 = num2 \n",
    "num2 = num3\n",
    "print(num1,num2)\n"
   ]
  },
  {
   "cell_type": "code",
   "execution_count": null,
   "metadata": {},
   "outputs": [],
   "source": [
    "##(b)\n",
    "num1 = int(input())\n",
    "num2 = int(input())\n",
    "num1 = num1+num2\n",
    "num2 = num1-num2\n",
    "num1 = num1-num2\n",
    "print(num1,num2)\n"
   ]
  },
  {
   "cell_type": "code",
   "execution_count": null,
   "metadata": {},
   "outputs": [],
   "source": [
    "##(c)\n",
    "num1=int(input())\n",
    "num2=int(input())\n",
    "num1=num1*num2\n",
    "num2=num1/num2\n",
    "num1=num1/num2\n",
    "print(num1,num2)"
   ]
  },
  {
   "cell_type": "code",
   "execution_count": null,
   "metadata": {},
   "outputs": [],
   "source": []
  }
 ],
 "metadata": {
  "kernelspec": {
   "display_name": "Python 3",
   "language": "python",
   "name": "python3"
  },
  "language_info": {
   "codemirror_mode": {
    "name": "ipython",
    "version": 3
   },
   "file_extension": ".py",
   "mimetype": "text/x-python",
   "name": "python",
   "nbconvert_exporter": "python",
   "pygments_lexer": "ipython3",
   "version": "3.7.3"
  }
 },
 "nbformat": 4,
 "nbformat_minor": 2
}
