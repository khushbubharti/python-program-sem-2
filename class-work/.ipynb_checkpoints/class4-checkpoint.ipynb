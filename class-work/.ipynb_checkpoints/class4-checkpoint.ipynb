{
 "cells": [
  {
   "cell_type": "markdown",
   "metadata": {},
   "source": [
    "# functions"
   ]
  },
  {
   "cell_type": "markdown",
   "metadata": {},
   "source": [
    "To perform a task repeatadaly we use function:"
   ]
  },
  {
   "cell_type": "code",
   "execution_count": 1,
   "metadata": {},
   "outputs": [
    {
     "name": "stdout",
     "output_type": "stream",
     "text": [
      "5\n"
     ]
    }
   ],
   "source": [
    "a = 2;\n",
    "b = 3;\n",
    "def sume(a,b):\n",
    "    c=a+b;\n",
    "    return(c);\n",
    "d=sume(a,b);\n",
    "print(d);"
   ]
  },
  {
   "cell_type": "code",
   "execution_count": 5,
   "metadata": {},
   "outputs": [
    {
     "name": "stdout",
     "output_type": "stream",
     "text": [
      "9\n",
      "8\n",
      "72 34\n"
     ]
    }
   ],
   "source": [
    "l = int(input(\"\"));\n",
    "b = int(input(\"\"));\n",
    "def rectangle(l,b):\n",
    "    A = l*b;\n",
    "    P = 2*(l+b);\n",
    "    return(A,P)\n",
    "p,q = rectangle(l,b)\n",
    "print(p,q)"
   ]
  },
  {
   "cell_type": "code",
   "execution_count": 7,
   "metadata": {},
   "outputs": [
    {
     "name": "stdout",
     "output_type": "stream",
     "text": [
      "0\n",
      "0\n",
      "0\n",
      "1\n"
     ]
    }
   ],
   "source": [
    "a = int(input(\"\"))\n",
    "b = int(input(\"\"))\n",
    "c = int(input(\"\"))\n",
    "def ore(a,b):\n",
    "    if (a==0,b==0):\n",
    "        return(0);\n",
    "    else:\n",
    "        return(1);\n",
    "def ande(a,b):\n",
    "    if(a==1 & b==1):\n",
    "        return(1);\n",
    "    else:\n",
    "        return(0);\n",
    "def note(a):\n",
    "    if(a==0):\n",
    "        return(1);\n",
    "    else:\n",
    "        return(0);\n",
    "d = ore(b,c);\n",
    "e = ande(a,d);\n",
    "f = note(e);\n",
    "print(f)"
   ]
  },
  {
   "cell_type": "markdown",
   "metadata": {},
   "source": [
    "Q1>1!+2!+3!........n!"
   ]
  },
  {
   "cell_type": "code",
   "execution_count": 16,
   "metadata": {},
   "outputs": [
    {
     "name": "stdout",
     "output_type": "stream",
     "text": [
      "3\n",
      "9\n"
     ]
    }
   ],
   "source": [
    "#1\n",
    "n = int(input(\"\"));\n",
    "s = 0;\n",
    "def fact(n):\n",
    "    f = 1;\n",
    "    for i in range (1,n+1,1):\n",
    "        f = f*i;\n",
    "    return(f);\n",
    "for i in range (1,n+1,1):\n",
    "    s = s+fact(i);\n",
    "print(s);"
   ]
  },
  {
   "cell_type": "code",
   "execution_count": 18,
   "metadata": {},
   "outputs": [
    {
     "name": "stdout",
     "output_type": "stream",
     "text": [
      "3\n",
      "123\n"
     ]
    }
   ],
   "source": [
    "#2\n",
    "n = int(input(\"\"));\n",
    "s = 0;\n",
    "def fact(n):\n",
    "    f = 1;\n",
    "    for i in range (1,n-1,1):\n",
    "        f = f*i;\n",
    "    return(f);\n",
    "for i in range (1,3*n+1,3):\n",
    "    s = s+fact(i);\n",
    "print(s);"
   ]
  },
  {
   "cell_type": "code",
   "execution_count": 13,
   "metadata": {},
   "outputs": [
    {
     "name": "stdout",
     "output_type": "stream",
     "text": [
      "6\n",
      "40284847\n"
     ]
    }
   ],
   "source": [
    "#3\n",
    "n = int(input(\"\"));\n",
    "s = 0;\n",
    "def fact(n):\n",
    "    f = 1;\n",
    "    for i in range (1,n+1,1):\n",
    "        f = f*i;\n",
    "    return(f);\n",
    "for i in range (1,2*n,2):\n",
    "    s = s+fact(i);\n",
    "print(s);"
   ]
  },
  {
   "cell_type": "code",
   "execution_count": 23,
   "metadata": {},
   "outputs": [
    {
     "name": "stdout",
     "output_type": "stream",
     "text": [
      "2\n",
      "3\n",
      "216\n"
     ]
    }
   ],
   "source": [
    "#4\n",
    "x = int(input(\"\"))\n",
    "n = int(input(\"\"))\n",
    "s = 0;\n",
    "def pow(x,n):\n",
    "    p=1;\n",
    "    for i in range(1,n+1,1):\n",
    "        p = p*x;\n",
    "        return(p);\n",
    "for i in range(1,n+1,1):\n",
    "    s = s+p;\n",
    "print(s);"
   ]
  },
  {
   "cell_type": "code",
   "execution_count": 25,
   "metadata": {},
   "outputs": [
    {
     "name": "stdout",
     "output_type": "stream",
     "text": [
      "2\n",
      "3\n",
      "216\n"
     ]
    }
   ],
   "source": [
    "#5\n",
    "x = int(input(\"\"))\n",
    "n = int(input(\"\"))\n",
    "s = 0;\n",
    "def pow(x,n):\n",
    "    p=1;\n",
    "    for i in range(1,n+1,1):\n",
    "        p = p*x;\n",
    "        return(p);\n",
    "for i in range(1,3*n-1,3):\n",
    "    s = s+p;\n",
    "print(s);"
   ]
  },
  {
   "cell_type": "code",
   "execution_count": null,
   "metadata": {},
   "outputs": [],
   "source": [
    "#6\n",
    "x = int(input(\"\"))\n",
    "n = int(input(\"\"))\n",
    "s = 1;\n",
    "def pow(x,n):\n",
    "    p=1;\n",
    "    for i in range(1,n+1,1):\n",
    "        p = p*x;\n",
    "        return(p);\n",
    "for i in range(1,3*n-1,3):\n",
    "    s = s+p;\n",
    "#print(s);\n",
    "n = int(input(\"\"));\n",
    "s = 0;\n",
    "def fact(n):\n",
    "    f = 1;\n",
    "    for i in range (1,n+1,1):\n",
    "        f = f*i;\n",
    "    return(f);\n",
    "for i in range (1,n+1,1):\n",
    "    s = s+fact(i);\n",
    "#print(s);\n",
    "print(pow(x,n)/fact(n))"
   ]
  },
  {
   "cell_type": "code",
   "execution_count": null,
   "metadata": {},
   "outputs": [],
   "source": []
  },
  {
   "cell_type": "code",
   "execution_count": null,
   "metadata": {},
   "outputs": [],
   "source": []
  }
 ],
 "metadata": {
  "kernelspec": {
   "display_name": "Python 3",
   "language": "python",
   "name": "python3"
  },
  "language_info": {
   "codemirror_mode": {
    "name": "ipython",
    "version": 3
   },
   "file_extension": ".py",
   "mimetype": "text/x-python",
   "name": "python",
   "nbconvert_exporter": "python",
   "pygments_lexer": "ipython3",
   "version": "3.7.3"
  }
 },
 "nbformat": 4,
 "nbformat_minor": 2
}
