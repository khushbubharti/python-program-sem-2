{
 "cells": [
  {
   "cell_type": "markdown",
   "metadata": {},
   "source": [
    "#(1) Write a program to calculate the sum of two numbers."
   ]
  },
  {
   "cell_type": "code",
   "execution_count": 2,
   "metadata": {},
   "outputs": [
    {
     "name": "stdout",
     "output_type": "stream",
     "text": [
      "Please Enter the value of a = 7\n",
      "Please Enter the value of b = 98\n",
      "sum of 7 and 98 is = 105\n"
     ]
    }
   ],
   "source": [
    "a = int(input(\"Please Enter the value of a = \"))\n",
    "b = int(input(\"Please Enter the value of b = \"))\n",
    "x = a+b\n",
    "print(f\"sum of {a} and {b} is = {x}\")"
   ]
  },
  {
   "cell_type": "markdown",
   "metadata": {},
   "source": [
    "#(2) Write a program to find the Area of circle and cylinder."
   ]
  },
  {
   "cell_type": "code",
   "execution_count": 3,
   "metadata": {},
   "outputs": [
    {
     "name": "stdout",
     "output_type": "stream",
     "text": [
      "Please Enter the value of radius = 6\n",
      "113.09733552923255\n"
     ]
    }
   ],
   "source": [
    "import math\n",
    "r = int(input(\"Please Enter the value of radius = \"))\n",
    "pi = math.pi\n",
    "A = pi*r*r\n",
    "print(A)\n",
    "A=2πrh+2πr2\n"
   ]
  },
  {
   "cell_type": "code",
   "execution_count": 2,
   "metadata": {},
   "outputs": [
    {
     "name": "stdout",
     "output_type": "stream",
     "text": [
      "Please Enter the value of radiud = 5\n",
      "Please Enter the value of height = 8\n",
      "408.4070449666731\n"
     ]
    }
   ],
   "source": [
    "import math\n",
    "r = int(input(\"Please Enter the value of radiud = \"))\n",
    "h = int(input(\"Please Enter the value of height = \"))\n",
    "pi = math.pi\n",
    "SA = 2*pi*r*h + 2*pi*r*r\n",
    "print(SA)\n"
   ]
  },
  {
   "cell_type": "markdown",
   "metadata": {},
   "source": [
    "#(3) Write a program to find the denomination of 1,10,50,100 of a given amount.\n"
   ]
  },
  {
   "cell_type": "code",
   "execution_count": 9,
   "metadata": {},
   "outputs": [
    {
     "name": "stdout",
     "output_type": "stream",
     "text": [
      "Please Enter the number8976\n",
      "Number of hundred rupees notes = 89 \n",
      "Number of fifty rupees notes =  1 \n",
      "Number of ten rupees notes =  2 \n",
      "Number of one rupees notes =  6\n"
     ]
    }
   ],
   "source": [
    "a=int(input(\"Please Enter the number\"))\n",
    "b=a//100\n",
    "a=a%100\n",
    "c=a//50\n",
    "a=a%50\n",
    "d=a//10\n",
    "a=a%10\n",
    "e=a//1\n",
    "print(\"Number of hundred rupees notes =\",b,'\\n'\"Number of fifty rupees notes = \",c,'\\n'\"Number of ten rupees notes = \",d,'\\n'\"Number of one rupees notes = \",e)\n"
   ]
  },
  {
   "cell_type": "markdown",
   "metadata": {},
   "source": [
    "#(4) Write a program to calculate the gross salary with given basic salary."
   ]
  },
  {
   "cell_type": "code",
   "execution_count": 10,
   "metadata": {},
   "outputs": [
    {
     "name": "stdout",
     "output_type": "stream",
     "text": [
      "Enter your basic salary :\n",
      "7890\n",
      "Your Gross Salary is:  13807.5\n"
     ]
    }
   ],
   "source": [
    "bs=float(input(\"Enter your basic salary :\\n\"))\n",
    "da=bs*0.6\n",
    "hra=bs*0.15\n",
    "gs=bs+da+hra\n",
    "print(\"Your Gross Salary is: \",gs)"
   ]
  },
  {
   "cell_type": "markdown",
   "metadata": {},
   "source": [
    "#(5) Write a program persentage of marks of four subject."
   ]
  },
  {
   "cell_type": "code",
   "execution_count": 12,
   "metadata": {},
   "outputs": [
    {
     "name": "stdout",
     "output_type": "stream",
     "text": [
      "Please Enter the marks of maths = 76\n",
      "Please Enter the marks of science = 86\n",
      "Please Enter the marks of english = 59\n",
      "Please Enter the marks of ds = 95\n",
      "Persentage of the marks is =  79.0\n"
     ]
    }
   ],
   "source": [
    "maths = int(input(\"Please Enter the marks of maths = \"))\n",
    "science = int(input(\"Please Enter the marks of science = \"))\n",
    "english = int(input(\"Please Enter the marks of english = \"))\n",
    "ds = int(input(\"Please Enter the marks of ds = \"))\n",
    "per =(maths+science+english+ds)/4\n",
    "print(\"Persentage of the marks is = \",per)"
   ]
  },
  {
   "cell_type": "markdown",
   "metadata": {},
   "source": [
    "#(6) Write a program to find the perimeter of the ractangle."
   ]
  },
  {
   "cell_type": "code",
   "execution_count": 13,
   "metadata": {},
   "outputs": [
    {
     "name": "stdout",
     "output_type": "stream",
     "text": [
      "Please Enter the value of length = 4\n",
      "Please Enter the value of bredth = 6\n",
      "The perimeter of the ractangle is =  20\n"
     ]
    }
   ],
   "source": [
    "l = int(input(\"Please Enter the value of length = \"))\n",
    "b = int(input(\"Please Enter the value of bredth = \"))\n",
    "p = (l+b)*2\n",
    "print(\"The perimeter of the ractangle is = \",p)"
   ]
  },
  {
   "cell_type": "markdown",
   "metadata": {},
   "source": [
    "#(7) Write a program to convert temprature from celsius to fahrenheit "
   ]
  },
  {
   "cell_type": "code",
   "execution_count": 14,
   "metadata": {},
   "outputs": [
    {
     "name": "stdout",
     "output_type": "stream",
     "text": [
      "Enter the temperature in celcius:34\n",
      "Temperature in farenheit is: 93.2\n"
     ]
    }
   ],
   "source": [
    "celsius=int(input(\"Enter the temperature in celcius:\"))\n",
    "f=(celsius*1.8)+32\n",
    "print(\"Temperature in farenheit is:\",f)"
   ]
  },
  {
   "cell_type": "markdown",
   "metadata": {},
   "source": [
    "#(8) Write a program to find the slop of a line."
   ]
  },
  {
   "cell_type": "code",
   "execution_count": 2,
   "metadata": {},
   "outputs": [
    {
     "name": "stdout",
     "output_type": "stream",
     "text": [
      "Please Enter the value of x1 = 7\n",
      "Please Enter the value of x2 = 9\n",
      "Please Enter the value of y1 = 7\n",
      "Please Enter the value of y2 = 2\n",
      "Slop of a line is =  -2.5\n"
     ]
    }
   ],
   "source": [
    "x1 = int(input(\"Please Enter the value of x1 = \"))\n",
    "x2 = int(input(\"Please Enter the value of x2 = \"))\n",
    "y1 = int(input(\"Please Enter the value of y1 = \"))\n",
    "y2 = int(input(\"Please Enter the value of y2 = \"))\n",
    "m = (y2-y1)/(x2-x1)\n",
    "print(\"Slop of a line is = \",m)"
   ]
  },
  {
   "cell_type": "markdown",
   "metadata": {},
   "source": [
    "#(9) Write a program  to find the cost price and profit persentage of sp and profit is given."
   ]
  },
  {
   "cell_type": "code",
   "execution_count": 3,
   "metadata": {},
   "outputs": [
    {
     "name": "stdout",
     "output_type": "stream",
     "text": [
      "Please Enter the value of sp = 7890\n",
      "Please Enter the value of profit = 890\n",
      "cost price is =  7000\n"
     ]
    }
   ],
   "source": [
    "sp = int(input(\"Please Enter the value of sp = \"))\n",
    "profit = int(input(\"Please Enter the value of profit = \"))\n",
    "cp = sp - profit\n",
    "print(\"cost price is = \",cp)"
   ]
  },
  {
   "cell_type": "code",
   "execution_count": null,
   "metadata": {},
   "outputs": [],
   "source": []
  }
 ],
 "metadata": {
  "kernelspec": {
   "display_name": "Python 3",
   "language": "python",
   "name": "python3"
  },
  "language_info": {
   "codemirror_mode": {
    "name": "ipython",
    "version": 3
   },
   "file_extension": ".py",
   "mimetype": "text/x-python",
   "name": "python",
   "nbconvert_exporter": "python",
   "pygments_lexer": "ipython3",
   "version": "3.7.3"
  }
 },
 "nbformat": 4,
 "nbformat_minor": 2
}
